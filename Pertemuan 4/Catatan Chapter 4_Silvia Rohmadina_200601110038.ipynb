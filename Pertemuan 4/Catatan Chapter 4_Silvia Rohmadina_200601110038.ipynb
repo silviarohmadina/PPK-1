{
 "cells": [
  {
   "cell_type": "markdown",
   "id": "e29d163f",
   "metadata": {},
   "source": [
    "# Chapter 4 Fungsi"
   ]
  },
  {
   "cell_type": "markdown",
   "id": "e336c4d3",
   "metadata": {},
   "source": [
    "### Nama : Silvia Rohmadina\n",
    "### NIM    : 200601110038\n",
    "### Kelas : PPK (F)"
   ]
  },
  {
   "cell_type": "markdown",
   "id": "013a958a",
   "metadata": {},
   "source": [
    "## 4.1 Fungsi Global\n",
    "\n",
    "Fungsi global adalah fungsi yang didefinisikan di dalam suatu modul dan dapat dipanggil oleh fungsi lain, baik yang berada di dalam modul yang sama maupun modul lain."
   ]
  },
  {
   "cell_type": "markdown",
   "id": "a35084bf",
   "metadata": {},
   "source": [
    "### Algorithm 4.1"
   ]
  },
  {
   "cell_type": "code",
   "execution_count": 1,
   "id": "d2fb1cd4",
   "metadata": {},
   "outputs": [
    {
     "data": {
      "text/plain": [
       "50"
      ]
     },
     "execution_count": 1,
     "metadata": {},
     "output_type": "execute_result"
    }
   ],
   "source": [
    "def kali(a,b):\n",
    "    c=a*b\n",
    "    return c # mengembalikan nilai ke baris pemanggil\n",
    "def tulis(s):\n",
    "    print(s)\n",
    "z=kali(10,5)\n",
    "z"
   ]
  },
  {
   "cell_type": "code",
   "execution_count": 2,
   "id": "6d9fc65e",
   "metadata": {},
   "outputs": [
    {
     "name": "stdout",
     "output_type": "stream",
     "text": [
      "Pemrograman Komputer I dengan Python\n"
     ]
    }
   ],
   "source": [
    "tulis('Pemrograman Komputer I dengan Python')"
   ]
  },
  {
   "cell_type": "code",
   "execution_count": 3,
   "id": "ac0733e5",
   "metadata": {},
   "outputs": [
    {
     "name": "stdout",
     "output_type": "stream",
     "text": [
      "50\n"
     ]
    }
   ],
   "source": [
    "tulis(z)"
   ]
  },
  {
   "cell_type": "markdown",
   "id": "d616de46",
   "metadata": {},
   "source": [
    "## Modul 4 Control Flow"
   ]
  },
  {
   "cell_type": "markdown",
   "id": "48326ed0",
   "metadata": {},
   "source": [
    "### Ekspresi Boolean"
   ]
  },
  {
   "cell_type": "code",
   "execution_count": 4,
   "id": "8261a7c8",
   "metadata": {},
   "outputs": [
    {
     "data": {
      "text/plain": [
       "True"
      ]
     },
     "execution_count": 4,
     "metadata": {},
     "output_type": "execute_result"
    }
   ],
   "source": [
    "a = 2\n",
    "b = 2\n",
    "\n",
    "a == b"
   ]
  },
  {
   "cell_type": "code",
   "execution_count": 5,
   "id": "f35f5145",
   "metadata": {},
   "outputs": [
    {
     "data": {
      "text/plain": [
       "True"
      ]
     },
     "execution_count": 5,
     "metadata": {},
     "output_type": "execute_result"
    }
   ],
   "source": [
    "5 == 5"
   ]
  },
  {
   "cell_type": "code",
   "execution_count": 6,
   "id": "7f3d61d8",
   "metadata": {},
   "outputs": [
    {
     "data": {
      "text/plain": [
       "False"
      ]
     },
     "execution_count": 6,
     "metadata": {},
     "output_type": "execute_result"
    }
   ],
   "source": [
    "5 == 6"
   ]
  },
  {
   "cell_type": "markdown",
   "id": "2d27a6ec",
   "metadata": {},
   "source": [
    "### Percobaan Conditional if"
   ]
  },
  {
   "cell_type": "code",
   "execution_count": 7,
   "id": "a44f6e54",
   "metadata": {},
   "outputs": [
    {
     "name": "stdout",
     "output_type": "stream",
     "text": [
      "Masukkan nilai Anda: 73\n",
      "Anda lulus ujian! SELAMAT!\n"
     ]
    }
   ],
   "source": [
    "nilai = input(\"Masukkan nilai Anda: \")\n",
    "if int(nilai) >=70:\n",
    "    print(\"Anda lulus ujian! SELAMAT!\")"
   ]
  },
  {
   "cell_type": "markdown",
   "id": "1bdb8bbb",
   "metadata": {},
   "source": [
    "### Percobaan Conditional if-else"
   ]
  },
  {
   "cell_type": "code",
   "execution_count": 8,
   "id": "ab726702",
   "metadata": {},
   "outputs": [
    {
     "name": "stdout",
     "output_type": "stream",
     "text": [
      "Masukkan nilai Anda: 56\n",
      "Anda belum lulus ujian!\n"
     ]
    }
   ],
   "source": [
    "nilai = input(\"Masukkan nilai Anda: \")\n",
    "if int(nilai) >=70:\n",
    "    print(\"Anda lulus ujian! SELAMAT!\")\n",
    "else:\n",
    "    print(\"Anda belum lulus ujian!\")"
   ]
  },
  {
   "cell_type": "markdown",
   "id": "e35ec655",
   "metadata": {},
   "source": [
    "### Percobaan Conditional if-elif-else"
   ]
  },
  {
   "cell_type": "code",
   "execution_count": 9,
   "id": "42922b25",
   "metadata": {},
   "outputs": [
    {
     "name": "stdout",
     "output_type": "stream",
     "text": [
      "Masukkan nilai Anda: 110\n",
      "NilaI Anda Tidak valid\n"
     ]
    }
   ],
   "source": [
    "nilai = input(\"Masukkan nilai Anda: \")\n",
    "if int(nilai) < 0 or int(nilai) > 100:\n",
    "    print(\"NilaI Anda Tidak valid\")\n",
    "elif int(nilai) >=70:\n",
    "    print(\"Anda lulus ujian! SELAMAT!\")\n",
    "else:\n",
    "    print(\"Anda belum lulus ujian!\")"
   ]
  },
  {
   "cell_type": "code",
   "execution_count": null,
   "id": "56f0d21a",
   "metadata": {},
   "outputs": [],
   "source": []
  }
 ],
 "metadata": {
  "kernelspec": {
   "display_name": "Python 3 (ipykernel)",
   "language": "python",
   "name": "python3"
  },
  "language_info": {
   "codemirror_mode": {
    "name": "ipython",
    "version": 3
   },
   "file_extension": ".py",
   "mimetype": "text/x-python",
   "name": "python",
   "nbconvert_exporter": "python",
   "pygments_lexer": "ipython3",
   "version": "3.7.6"
  }
 },
 "nbformat": 4,
 "nbformat_minor": 5
}
