{
 "cells": [
  {
   "cell_type": "markdown",
   "id": "3563c564",
   "metadata": {},
   "source": [
    "## Latihan PPK 1\n",
    "#### Nama : Silvia Rohmadina\n",
    "#### NIM    : 200601110038\n",
    "#### Kelas : PPK (F)"
   ]
  },
  {
   "cell_type": "markdown",
   "id": "9746bfb5",
   "metadata": {},
   "source": [
    "### Nomor 1"
   ]
  },
  {
   "cell_type": "code",
   "execution_count": 1,
   "id": "db7f9100",
   "metadata": {},
   "outputs": [
    {
     "name": "stdout",
     "output_type": "stream",
     "text": [
      "Bilangan Bulat Pertama: 34\n",
      "Bilangan Bulat Kedua: 43\n",
      "Bilangan bulat terbesar: 43\n"
     ]
    }
   ],
   "source": [
    "a = int(input(\"Bilangan Bulat Pertama: \"))\n",
    "b = int(input(\"Bilangan Bulat Kedua: \"))\n",
    "if a > b:\n",
    "    max = a\n",
    "else:\n",
    "    max = b\n",
    "print('Bilangan bulat terbesar: %d' %max)"
   ]
  },
  {
   "cell_type": "markdown",
   "id": "ca34cf29",
   "metadata": {},
   "source": [
    "### Nomor 2"
   ]
  },
  {
   "cell_type": "code",
   "execution_count": 2,
   "id": "06cbe79b",
   "metadata": {},
   "outputs": [
    {
     "name": "stdout",
     "output_type": "stream",
     "text": [
      "Menghitung Nilai Akhir\n",
      "Nilai UAS: 34\n",
      "Nilai UTS: 43\n",
      "Nilai Kuis: 54\n",
      "Nilai Tugas: 65\n",
      "Nilai Akhir: 44.9\n",
      "REMIDI!\n"
     ]
    }
   ],
   "source": [
    "print(\"Menghitung Nilai Akhir\")\n",
    "A = int(input(\"Nilai UAS: \"))\n",
    "B = int(input(\"Nilai UTS: \"))\n",
    "C = int(input(\"Nilai Kuis: \"))\n",
    "D = int(input(\"Nilai Tugas: \"))\n",
    "\n",
    "A = A*40/100;\n",
    "B = B*30/100;\n",
    "C = C*10/100;\n",
    "D = D*20/100;\n",
    "Nilai_Akhir = A+B+C+D;\n",
    "print(\"Nilai Akhir:\" ,float(Nilai_Akhir))\n",
    "if Nilai_Akhir == \"65\" or Nilai_Akhir > 65:\n",
    "    print(\"LULUS!\")\n",
    "else:\n",
    "    print(\"REMIDI!\")"
   ]
  },
  {
   "cell_type": "markdown",
   "id": "0cd3c058",
   "metadata": {},
   "source": [
    "### Nomor 3"
   ]
  },
  {
   "cell_type": "code",
   "execution_count": 3,
   "id": "03eed7cf",
   "metadata": {},
   "outputs": [
    {
     "name": "stdout",
     "output_type": "stream",
     "text": [
      "Pilih Operasi\n",
      "1. Penjumlahan (+)\n",
      "2. Pengurangan (-)\n",
      "3. Perkalian (*)\n",
      "4. Pembagian (/)\n",
      "Masukkan Pilihan(+,-,*,/): *\n",
      "Masukkan Bilangan Pertama: 9\n",
      "Masukkan Bilangan Kedua: 8\n",
      "9 * 8 = 72\n"
     ]
    }
   ],
   "source": [
    "def add(x,y):\n",
    "    return x+y\n",
    "def subtract(x,y):\n",
    "    return x-y\n",
    "def multiply(x,y):\n",
    "    return x*y\n",
    "def divide(x,y):\n",
    "    return x/y\n",
    "\n",
    "print(\"Pilih Operasi\")\n",
    "print(\"1. Penjumlahan (+)\")\n",
    "print(\"2. Pengurangan (-)\")\n",
    "print(\"3. Perkalian (*)\")\n",
    "print(\"4. Pembagian (/)\")\n",
    "\n",
    "choice = input(\"Masukkan Pilihan(+,-,*,/): \")\n",
    "\n",
    "num1 = int(input(\"Masukkan Bilangan Pertama: \"))\n",
    "num2 = int(input(\"Masukkan Bilangan Kedua: \"))\n",
    "\n",
    "if choice == '+':\n",
    "    print(num1,\"+\",num2,\"=\", add(num1,num2))\n",
    "elif choice == '-':\n",
    "    print(num1,\"-\",num2,\"=\", subtract(num1,num2))\n",
    "elif choice == '*':\n",
    "    print(num1,\"*\",num2,\"=\", multiply(num1,num2))\n",
    "elif choice == '/':\n",
    "    print(num1,\"/\",num2,\"=\", divide(num1,num2))\n",
    "else:\n",
    "    print(\"Input Salah\")"
   ]
  },
  {
   "cell_type": "code",
   "execution_count": null,
   "id": "cd0beb51",
   "metadata": {},
   "outputs": [],
   "source": []
  }
 ],
 "metadata": {
  "kernelspec": {
   "display_name": "Python 3 (ipykernel)",
   "language": "python",
   "name": "python3"
  },
  "language_info": {
   "codemirror_mode": {
    "name": "ipython",
    "version": 3
   },
   "file_extension": ".py",
   "mimetype": "text/x-python",
   "name": "python",
   "nbconvert_exporter": "python",
   "pygments_lexer": "ipython3",
   "version": "3.7.6"
  }
 },
 "nbformat": 4,
 "nbformat_minor": 5
}
