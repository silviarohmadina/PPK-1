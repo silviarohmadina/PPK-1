{
 "cells": [
  {
   "cell_type": "markdown",
   "id": "cdbf874d",
   "metadata": {},
   "source": [
    "Scipy merupakan salah satu package python yang berfungsi untuk melakukan perhitungan objek matematika di python. Sympy merupakan singkatan dari *Symbolic Computation*. Pada sympy kita dapat menyelesaikan persoalan matematika yang dengan lebih matematis daripada saat menggunakan package yang lainnya.\n",
    "\n",
    "Silahkan perhatikan contoh dibawah ini."
   ]
  },
  {
   "cell_type": "code",
   "execution_count": 2,
   "id": "ac630a44",
   "metadata": {},
   "outputs": [
    {
     "data": {
      "text/plain": [
       "2.8284271247461903"
      ]
     },
     "execution_count": 2,
     "metadata": {},
     "output_type": "execute_result"
    }
   ],
   "source": [
    "# Apabila menggunakan fungsi math yang merupakan fungsi bawaan dari python\n",
    "\n",
    "import math\n",
    "math.sqrt(8)"
   ]
  },
  {
   "cell_type": "markdown",
   "id": "09405e8e",
   "metadata": {},
   "source": [
    "Akan didapatkan angka decimal sesuai dengan perhitungan akarnya. Namun ketika kita menginginkan hasil yang tidak default dari operasi tersebut, maka kita dapat menggunakan sympy. Sympy mendapatkan hasil matematika simbolik dengan lebih baik\n",
    "\n",
    "\n",
    "Saat menggunakan sympy pada kita dapat memperoleh hasil seperti dibawah ini."
   ]
  },
  {
   "cell_type": "code",
   "execution_count": 3,
   "id": "648bc101",
   "metadata": {},
   "outputs": [
    {
     "data": {
      "text/latex": [
       "$\\displaystyle 2 \\sqrt{2}$"
      ],
      "text/plain": [
       "2*sqrt(2)"
      ]
     },
     "execution_count": 3,
     "metadata": {},
     "output_type": "execute_result"
    }
   ],
   "source": [
    "import sympy\n",
    "sympy.sqrt(8)"
   ]
  },
  {
   "cell_type": "markdown",
   "id": "2d286b4c",
   "metadata": {},
   "source": [
    "### Penggunaan Symbol\n",
    "\n",
    "Contoh di atas mulai menunjukkan bagaimana kita dapat memanipulasi bilangan irasional dengan tepat menggunakan SymPy. Tapi itu jauh lebih kuat dari itu. Sistem komputasi simbolik (yang juga sering disebut sistem aljabar komputer, atau hanya CAS) seperti SymPy mampu menghitung ekspresi simbolik dengan variabel.\n",
    "\n",
    "Seperti yang akan kita lihat nanti, di SymPy, variabel didefinisikan menggunakan symbols. Alasan harus ada pendefinisian *symbol* ialah karena dalam Python, variabel tidak memiliki arti sampai mereka didefinisikan. SymPy tidak berbeda. Tidak seperti banyak sistem manipulasi simbolik yang mungkin Anda gunakan, di SymPy, variabel tidak ditentukan secara otomatis."
   ]
  },
  {
   "cell_type": "code",
   "execution_count": 12,
   "id": "7d258850",
   "metadata": {},
   "outputs": [
    {
     "name": "stdout",
     "output_type": "stream",
     "text": [
      "x + 2*y\n"
     ]
    }
   ],
   "source": [
    "# penulisan pengambilan symbol\n",
    "\n",
    "from sympy import symbols\n",
    "x, y = symbols('x y')\n",
    "expr = x + 2*y\n",
    "print (expr)"
   ]
  },
  {
   "cell_type": "markdown",
   "id": "2c18df67",
   "metadata": {},
   "source": [
    "Mengambil string nama variabel yang dipisahkan oleh spasi atau koma, dan membuat Simbol darinya. Kami kemudian dapat menetapkan ini ke nama variabel."
   ]
  },
  {
   "cell_type": "code",
   "execution_count": 9,
   "id": "ac4130fd",
   "metadata": {},
   "outputs": [
    {
     "ename": "NameError",
     "evalue": "name 'a' is not defined",
     "output_type": "error",
     "traceback": [
      "\u001b[1;31m---------------------------------------------------------------------------\u001b[0m",
      "\u001b[1;31mNameError\u001b[0m                                 Traceback (most recent call last)",
      "\u001b[1;32m~\\AppData\\Local\\Temp/ipykernel_9512/2283261459.py\u001b[0m in \u001b[0;36m<module>\u001b[1;34m\u001b[0m\n\u001b[0;32m      1\u001b[0m \u001b[1;32mfrom\u001b[0m \u001b[0msympy\u001b[0m \u001b[1;32mimport\u001b[0m \u001b[1;33m*\u001b[0m\u001b[1;33m\u001b[0m\u001b[1;33m\u001b[0m\u001b[0m\n\u001b[1;32m----> 2\u001b[1;33m \u001b[0mexpr\u001b[0m \u001b[1;33m=\u001b[0m \u001b[0ma\u001b[0m \u001b[1;33m+\u001b[0m \u001b[1;36m2\u001b[0m\u001b[1;33m*\u001b[0m\u001b[0mb\u001b[0m\u001b[1;33m\u001b[0m\u001b[1;33m\u001b[0m\u001b[0m\n\u001b[0m\u001b[0;32m      3\u001b[0m \u001b[0mprint\u001b[0m \u001b[1;33m(\u001b[0m\u001b[0mexpr\u001b[0m\u001b[1;33m)\u001b[0m\u001b[1;33m\u001b[0m\u001b[1;33m\u001b[0m\u001b[0m\n\u001b[0;32m      4\u001b[0m \u001b[1;33m\u001b[0m\u001b[0m\n\u001b[0;32m      5\u001b[0m \u001b[1;31m#variabel a dan b belum didefinisikan sehingga akan terjadi error\u001b[0m\u001b[1;33m\u001b[0m\u001b[1;33m\u001b[0m\u001b[0m\n",
      "\u001b[1;31mNameError\u001b[0m: name 'a' is not defined"
     ]
    }
   ],
   "source": [
    "from sympy import *\n",
    "expr = a + 2*b\n",
    "print (expr)\n",
    "\n",
    "#variabel a dan b belum didefinisikan sehingga akan terjadi error"
   ]
  },
  {
   "cell_type": "markdown",
   "id": "057a2a35",
   "metadata": {},
   "source": [
    "### Langkah awal import sympy\n",
    "\n",
    "Kalian  bisa menggunakan\n",
    "\n",
    "*import sympy*\n",
    "\n",
    "*from sympy import symbols, expand, factor, dll*\n",
    "\n",
    "dengan menuliskan secara manual perintah2 yang nantinya akan dibutuhkan.\n",
    "\n",
    "Kalian juga bisa menggunakan \n",
    "\n",
    "*from sympy import **\n",
    "\n",
    "agar tidak menuliskan semua perintah yang dibutuhkan. Jadi itu akan mempermudah penggunaan sympy."
   ]
  },
  {
   "cell_type": "markdown",
   "id": "4cb138c7",
   "metadata": {},
   "source": [
    "### Beberapa fungsi yang dapat digunakan dengan sympy\n",
    "\n",
    "\n",
    "limit,\n",
    "expand (penjabaran),\n",
    "simplify (penyederhanaan),\n",
    "diff (turunan),\n",
    "integrate (integral),\n",
    "solve (himpunan penyelesaian),\n",
    "dsolve (persamaan diferensial),\n",
    "sin cos tan,\n",
    "eigenvals (mencari nilai eigen),\n",
    "dll."
   ]
  },
  {
   "cell_type": "markdown",
   "id": "b03da3d8",
   "metadata": {},
   "source": [
    "### Kelebihan menggunakan sympy\n",
    "\n",
    "Keunggulan dari sistem komputasi simbolik seperti SymPy adalah kemampuan untuk melakukan segala macam komputasi secara simbolis. SymPy dapat menyederhanakan ekspresi, menghitung turunan, integral, dan limit, menyelesaikan persamaan, bekerja dengan matriks, dan banyak lagi, dan melakukan semuanya secara simbolis."
   ]
  },
  {
   "cell_type": "code",
   "execution_count": 13,
   "id": "6752a89d",
   "metadata": {},
   "outputs": [],
   "source": [
    "init_printing(use_unicode=True)"
   ]
  },
  {
   "cell_type": "markdown",
   "id": "987f3b22",
   "metadata": {},
   "source": [
    "Dengan tambahan perintah diatas, kalian dapat membuat output dari program yang dibuat lebih cantik dan terlihan lebih enak dibaca. Seperti contoh dibawah ini."
   ]
  },
  {
   "cell_type": "code",
   "execution_count": 33,
   "id": "4415f0e5",
   "metadata": {},
   "outputs": [],
   "source": [
    "from sympy import *\n",
    "x, t, z, nu = symbols('x t z nu')"
   ]
  },
  {
   "cell_type": "code",
   "execution_count": 34,
   "id": "c752bae0",
   "metadata": {},
   "outputs": [
    {
     "data": {
      "image/png": "[encoded data removed]",
      "text/latex": [
       "$\\displaystyle 0$"
      ],
      "text/plain": [
       "0"
      ]
     },
     "execution_count": 34,
     "metadata": {},
     "output_type": "execute_result"
    }
   ],
   "source": [
    "a = (x + 1)**2\n",
    "b = x**2 + 2*x + 1\n",
    "simplify(a - b)"
   ]
  },
  {
   "cell_type": "code",
   "execution_count": 35,
   "id": "f344b34b",
   "metadata": {},
   "outputs": [
    {
     "data": {
      "image/png": "[encoded data removed]",
      "text/latex": [
       "$\\displaystyle 4 x$"
      ],
      "text/plain": [
       "4⋅x"
      ]
     },
     "execution_count": 35,
     "metadata": {},
     "output_type": "execute_result"
    }
   ],
   "source": [
    "c = x**2 - 2*x + 1\n",
    "simplify(a - c)"
   ]
  },
  {
   "cell_type": "code",
   "execution_count": 21,
   "id": "5e1fba29",
   "metadata": {},
   "outputs": [
    {
     "data": {
      "image/png": "[encoded data removed]",
      "text/latex": [
       "$\\displaystyle e^{x} \\sin{\\left(x \\right)} + e^{x} \\cos{\\left(x \\right)}$"
      ],
      "text/plain": [
       " x           x       \n",
       "ℯ ⋅sin(x) + ℯ ⋅cos(x)"
      ]
     },
     "execution_count": 21,
     "metadata": {},
     "output_type": "execute_result"
    }
   ],
   "source": [
    "diff(sin(x)*exp(x), x)"
   ]
  },
  {
   "cell_type": "code",
   "execution_count": 22,
   "id": "f7e8c865",
   "metadata": {},
   "outputs": [
    {
     "data": {
      "image/png": "[encoded data removed]",
      "text/latex": [
       "$\\displaystyle e^{x} \\sin{\\left(x \\right)}$"
      ],
      "text/plain": [
       " x       \n",
       "ℯ ⋅sin(x)"
      ]
     },
     "execution_count": 22,
     "metadata": {},
     "output_type": "execute_result"
    }
   ],
   "source": [
    "integrate(exp(x)*sin(x) + exp(x)*cos(x), x)"
   ]
  },
  {
   "cell_type": "code",
   "execution_count": 23,
   "id": "8ca76e49",
   "metadata": {},
   "outputs": [
    {
     "data": {
      "image/png": "[encoded data removed]",
      "text/latex": [
       "$\\displaystyle \\frac{\\sqrt{2} \\sqrt{\\pi}}{2}$"
      ],
      "text/plain": [
       "√2⋅√π\n",
       "─────\n",
       "  2  "
      ]
     },
     "execution_count": 23,
     "metadata": {},
     "output_type": "execute_result"
    }
   ],
   "source": [
    "integrate(sin(x**2), (x, -oo, oo))"
   ]
  },
  {
   "cell_type": "code",
   "execution_count": 24,
   "id": "add0bbc9",
   "metadata": {},
   "outputs": [
    {
     "data": {
      "image/png": "[encoded data removed]",
      "text/latex": [
       "$\\displaystyle 1$"
      ],
      "text/plain": [
       "1"
      ]
     },
     "execution_count": 24,
     "metadata": {},
     "output_type": "execute_result"
    }
   ],
   "source": [
    "limit(sin(x)/x, x, 0)"
   ]
  },
  {
   "cell_type": "code",
   "execution_count": 16,
   "id": "5df5002d",
   "metadata": {},
   "outputs": [
    {
     "data": {
      "image/png": "[encoded data removed]",
      "text/latex": [
       "$\\displaystyle \\left[ - \\sqrt{2}, \\  \\sqrt{2}\\right]$"
      ],
      "text/plain": [
       "[-√2, √2]"
      ]
     },
     "execution_count": 16,
     "metadata": {},
     "output_type": "execute_result"
    }
   ],
   "source": [
    "solve(x**2 - 2, x)"
   ]
  },
  {
   "cell_type": "code",
   "execution_count": 26,
   "id": "32bf2919",
   "metadata": {},
   "outputs": [
    {
     "data": {
      "image/png": "[encoded data removed]",
      "text/latex": [
       "$\\displaystyle y{\\left(t \\right)} = C_{2} e^{- t} + \\left(C_{1} + \\frac{t}{2}\\right) e^{t}$"
      ],
      "text/plain": [
       "           -t   ⎛     t⎞  t\n",
       "y(t) = C₂⋅ℯ   + ⎜C₁ + ─⎟⋅ℯ \n",
       "                ⎝     2⎠   "
      ]
     },
     "execution_count": 26,
     "metadata": {},
     "output_type": "execute_result"
    }
   ],
   "source": [
    "y = Function('y')\n",
    "dsolve(Eq(y(t).diff(t, t) - y(t), exp(t)), y(t))"
   ]
  },
  {
   "cell_type": "code",
   "execution_count": 27,
   "id": "85a1e63f",
   "metadata": {},
   "outputs": [
    {
     "data": {
      "image/png": "[encoded data removed]",
      "text/latex": [
       "$\\displaystyle \\left\\{ \\frac{3}{2} - \\frac{\\sqrt{17}}{2} : 1, \\  \\frac{3}{2} + \\frac{\\sqrt{17}}{2} : 1\\right\\}$"
      ],
      "text/plain": [
       "⎧3   √17     3   √17   ⎫\n",
       "⎨─ - ───: 1, ─ + ───: 1⎬\n",
       "⎩2    2      2    2    ⎭"
      ]
     },
     "execution_count": 27,
     "metadata": {},
     "output_type": "execute_result"
    }
   ],
   "source": [
    "Matrix([[1, 2], [2, 2]]).eigenvals()"
   ]
  },
  {
   "cell_type": "markdown",
   "id": "3257f635",
   "metadata": {},
   "source": [
    "## TUGAS\n",
    "\n",
    "Silahkan buat 5 soal matematika beserta penyelesaiannya menggunakan bantuan sympy. Buat file .ipynb kemudian upload di github dan kumpulkan link nya di elearning."
   ]
  }
 ],
 "metadata": {
  "kernelspec": {
   "display_name": "Python 3 (ipykernel)",
   "language": "python",
   "name": "python3"
  },
  "language_info": {
   "codemirror_mode": {
    "name": "ipython",
    "version": 3
   },
   "file_extension": ".py",
   "mimetype": "text/x-python",
   "name": "python",
   "nbconvert_exporter": "python",
   "pygments_lexer": "ipython3",
   "version": "3.7.6"
  }
 },
 "nbformat": 4,
 "nbformat_minor": 5
}
