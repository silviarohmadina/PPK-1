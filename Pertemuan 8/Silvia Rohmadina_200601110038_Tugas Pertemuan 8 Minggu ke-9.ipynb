{
 "cells": [
  {
   "cell_type": "markdown",
   "id": "c67aad8f",
   "metadata": {},
   "source": [
    "# Nama : Silvia Rohmadina\n",
    "# NIM    : 200601110038\n",
    "# Kelas : PPK (F)"
   ]
  },
  {
   "cell_type": "markdown",
   "id": "407565ea",
   "metadata": {},
   "source": [
    "## TUGAS\n",
    "\n",
    "Silahkan buat 5 soal matematika beserta penyelesaiannya menggunakan bantuan sympy. Buat file .ipynb kemudian upload di github dan kumpulkan link nya di elearning."
   ]
  },
  {
   "cell_type": "markdown",
   "id": "f18b924a",
   "metadata": {},
   "source": [
    "## Soal"
   ]
  },
  {
   "cell_type": "markdown",
   "id": "e448d5fb",
   "metadata": {},
   "source": [
    "1. Tentukan turunan dari cos 2x - 2 sin 3x!\n",
    "2. Hitunglah limit fungsi dari (x^2-1)/(x+1) dengan x mendekati 8!\n",
    "3. sederhanakan bentuk berikut:\n",
    "   2x^2 - x - 3 / 3x^2 + x - 2!\n",
    "4. Berapa hasil dari integral cos(7x-5)dx?\n",
    "5. Berapa himpunan penyelesaian dari x^2-6x+5?"
   ]
  },
  {
   "cell_type": "markdown",
   "id": "fc9a02f3",
   "metadata": {},
   "source": [
    "## #Jawaban#"
   ]
  },
  {
   "cell_type": "code",
   "execution_count": 1,
   "id": "11291b39",
   "metadata": {},
   "outputs": [],
   "source": [
    "from sympy import *\n",
    "x = symbols('x')"
   ]
  },
  {
   "cell_type": "code",
   "execution_count": 2,
   "id": "86b88d72",
   "metadata": {},
   "outputs": [],
   "source": [
    "init_printing(use_unicode=True)"
   ]
  },
  {
   "cell_type": "code",
   "execution_count": 3,
   "id": "879a3c02",
   "metadata": {},
   "outputs": [
    {
     "data": {
      "image/png": "[encoded data removed]",
      "text/latex": [
       "$\\displaystyle - 2 \\sin{\\left(2 x \\right)} - 6 \\cos{\\left(3 x \\right)}$"
      ],
      "text/plain": [
       "-2⋅sin(2⋅x) - 6⋅cos(3⋅x)"
      ]
     },
     "execution_count": 3,
     "metadata": {},
     "output_type": "execute_result"
    }
   ],
   "source": [
    "# No.1\n",
    "diff(cos(2*x) - 2*sin(3*x), x)"
   ]
  },
  {
   "cell_type": "code",
   "execution_count": 4,
   "id": "4c33eec2",
   "metadata": {},
   "outputs": [
    {
     "data": {
      "image/png": "[encoded data removed]",
      "text/latex": [
       "$\\displaystyle 7$"
      ],
      "text/plain": [
       "7"
      ]
     },
     "execution_count": 4,
     "metadata": {},
     "output_type": "execute_result"
    }
   ],
   "source": [
    "# No.2\n",
    "limit((x**2-1)/(x+1), x, 8)"
   ]
  },
  {
   "cell_type": "code",
   "execution_count": 5,
   "id": "40054797",
   "metadata": {},
   "outputs": [
    {
     "data": {
      "image/png": "[encoded data removed]",
      "text/latex": [
       "$\\displaystyle \\frac{2 x - 3}{3 x - 2}$"
      ],
      "text/plain": [
       "2⋅x - 3\n",
       "───────\n",
       "3⋅x - 2"
      ]
     },
     "execution_count": 5,
     "metadata": {},
     "output_type": "execute_result"
    }
   ],
   "source": [
    "# No.3\n",
    "a = 2*x**2 - x - 3\n",
    "b = 3*x**2 + x - 2\n",
    "simplify(a/b)"
   ]
  },
  {
   "cell_type": "code",
   "execution_count": 6,
   "id": "5a6f6fad",
   "metadata": {},
   "outputs": [
    {
     "data": {
      "image/png": "[encoded data removed]",
      "text/latex": [
       "$\\displaystyle \\frac{\\sin{\\left(7 x - 5 \\right)}}{7}$"
      ],
      "text/plain": [
       "sin(7⋅x - 5)\n",
       "────────────\n",
       "     7      "
      ]
     },
     "execution_count": 6,
     "metadata": {},
     "output_type": "execute_result"
    }
   ],
   "source": [
    "# No.4\n",
    "integrate (cos(7*x-5), x)"
   ]
  },
  {
   "cell_type": "code",
   "execution_count": 7,
   "id": "e95a8478",
   "metadata": {},
   "outputs": [
    {
     "data": {
      "image/png": "[encoded data removed]",
      "text/latex": [
       "$\\displaystyle \\left[ 1, \\  5\\right]$"
      ],
      "text/plain": [
       "[1, 5]"
      ]
     },
     "execution_count": 7,
     "metadata": {},
     "output_type": "execute_result"
    }
   ],
   "source": [
    "# No.5\n",
    "solve(x**2 - 6*x + 5)"
   ]
  }
 ],
 "metadata": {
  "kernelspec": {
   "display_name": "Python 3 (ipykernel)",
   "language": "python",
   "name": "python3"
  },
  "language_info": {
   "codemirror_mode": {
    "name": "ipython",
    "version": 3
   },
   "file_extension": ".py",
   "mimetype": "text/x-python",
   "name": "python",
   "nbconvert_exporter": "python",
   "pygments_lexer": "ipython3",
   "version": "3.7.6"
  }
 },
 "nbformat": 4,
 "nbformat_minor": 5
}
